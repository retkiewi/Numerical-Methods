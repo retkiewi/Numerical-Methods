{
 "cells": [
  {
   "cell_type": "code",
   "execution_count": 21,
   "metadata": {},
   "outputs": [
    {
     "name": "stdout",
     "output_type": "stream",
     "text": [
      "[[ 1.000e-04 -5.030e+00  5.809e+00  7.832e+00]\n",
      " [ 2.266e+00  1.995e+00  1.212e+00  8.008e+00]\n",
      " [ 8.850e+00  5.681e+00  4.552e+00  1.302e+00]\n",
      " [ 6.775e+00 -2.253e+00  2.908e+00  3.970e+00]]\n",
      "[[ 1.00000000e-04  0.00000000e+00  0.00000000e+00  0.00000000e+00]\n",
      " [ 0.00000000e+00  1.13981795e+05  0.00000000e+00  0.00000000e+00]\n",
      " [ 0.00000000e+00  0.00000000e+00 -2.61893648e+00  0.00000000e+00]\n",
      " [ 0.00000000e+00  0.00000000e+00  0.00000000e+00  9.68447519e+01]]\n"
     ]
    }
   ],
   "source": [
    "import numpy as np\n",
    "\n",
    "def gauss_elim(A):\n",
    "    if(not isinstance(A, np.matrix) or not A.ndim==2 or not A.shape[0]==A.shape[1]):\n",
    "        return 0\n",
    "    row = 0\n",
    "    #Doprowadzanie macierzy do postaci trójkątnej dolnej\n",
    "    while(row < A.shape[0]-1):\n",
    "        i = row+1\n",
    "        while(A.item(row, row)==0):\n",
    "            if(i>A.shape[0]):\n",
    "                break\n",
    "            A[[row, i]] = A[[i,row]]\n",
    "            i+=1\n",
    "        \n",
    "        while(i < A.shape[0]):\n",
    "            A[i]-=(A[row]/A.item(row, row))*A.item(i, row)\n",
    "            i+=1\n",
    "        row+=1\n",
    "    #Doprowadzanie macierzy do postaci trójkątnej górnej \n",
    "    while(row>0):\n",
    "        i=row-1\n",
    "        while(i>=0):\n",
    "            A[i]-=(A[row]/A.item(row, row))*A.item(i, row)\n",
    "            i-=1\n",
    "        row-=1\n",
    "    return A\n",
    "\n",
    "\n",
    "A = np.matrix([[0.0001, -5.0300, 5.8090, 7.8320],\n",
    "              [2.2660, 1.9950,  1.2120, 8.0080],\n",
    "              [8.8500, 5.6810,  4.5520, 1.3020],\n",
    "              [6.7750, -2.253,  2.9080, 3.9700]])\n",
    "\n",
    "print(A)\n",
    "\n",
    "gauss_elim(A)\n",
    "\n",
    "print(A)\n",
    "#Jak widać dziaa"
   ]
  },
  {
   "cell_type": "code",
   "execution_count": null,
   "metadata": {},
   "outputs": [],
   "source": []
  }
 ],
 "metadata": {
  "kernelspec": {
   "display_name": "Python 3",
   "language": "python",
   "name": "python3"
  },
  "language_info": {
   "codemirror_mode": {
    "name": "ipython",
    "version": 3
   },
   "file_extension": ".py",
   "mimetype": "text/x-python",
   "name": "python",
   "nbconvert_exporter": "python",
   "pygments_lexer": "ipython3",
   "version": "3.8.2"
  }
 },
 "nbformat": 4,
 "nbformat_minor": 4
}
