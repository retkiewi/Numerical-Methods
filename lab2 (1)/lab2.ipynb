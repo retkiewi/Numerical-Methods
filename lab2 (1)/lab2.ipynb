{
 "cells": [
  {
   "cell_type": "markdown",
   "metadata": {},
   "source": [
    "# MOwNiT - układy równań liniowych"
   ]
  },
  {
   "cell_type": "markdown",
   "metadata": {},
   "source": [
    "<h3> Przydatne linki: </h3>"
   ]
  },
  {
   "cell_type": "markdown",
   "metadata": {},
   "source": [
    "- CPP: https://en.cppreference.com/w/\n",
    "\n",
    "- Układ równań liniowych: https://pl.wikipedia.org/wiki/Układ_równań_liniowych\n",
    "- Eliminacja Gaussa: https://pl.wikipedia.org/wiki/Metoda_eliminacji_Gaussa, Kincaid-Cheney* str. 245, pełny -pseudokod: str. 252\n",
    "- Norma wektora: https://pl.wikipedia.org/wiki/Przestrze%C5%84_unormowana, K.C. str. 320\n",
    "- Norma macierzy: https://pl.wikipedia.org/wiki/Norma_macierzowa\n",
    "- Faktoryzacja LU: https://pl.wikipedia.org/wiki/Metoda_LU, K.C. str. 294\n",
    "- Faktoryzacja Cholesky'ego: https://en.wikipedia.org/wiki/Cholesky_decomposition, K.C. str. 305\n",
    "- Wyznacznik macierzy: https://pl.wikipedia.org/wiki/Wyznacznik\n",
    "\n",
    "**Dodatkowe źródła przydatne przy implementacjach**\n",
    "- Rozdz. 7. Kincaida i Cheney'a (Systems of Linear Equations).\n",
    "- Rozdz. 8. Kincaida i Cheney'a (Additional Topics Concerning Systems of Linear Equations)."
   ]
  },
  {
   "cell_type": "markdown",
   "metadata": {},
   "source": [
    "<h3> Zadania </h3>\n",
    "\n",
    "**Zadanie 1** \n",
    "W załączonym do laboratorium kodzie napisz funkcje realizujące dodawanie oraz mnożenie macierzy."
   ]
  },
  {
   "cell_type": "code",
   "execution_count": 1,
   "metadata": {},
   "outputs": [],
   "source": [
    "#include <vector>\n",
    "#include <iostream>\n",
    "#include <cmath>\n",
    "\n",
    "\n",
    "template <typename T> class AGHMatrix \n",
    "{\n",
    "private:\n",
    "    std::vector<std::vector<T>> matrix;\n",
    "    unsigned rows;\n",
    "    unsigned cols;\n",
    "\n",
    "public:\n",
    "    AGHMatrix(const std::vector<std::vector<T>>& matrix);\n",
    "    AGHMatrix(unsigned _rows, unsigned _cols, const T& _initial);\n",
    "    AGHMatrix(const AGHMatrix<T>& rhs);\n",
    "    virtual ~AGHMatrix() = default;\n",
    "\n",
    "    // Operator overloading, for \"standard\" mathematical matrix operations                                                                                                                                                          \n",
    "    AGHMatrix<T>& operator=(const AGHMatrix<T>& rhs);\n",
    "\n",
    "    // Matrix mathematical operations                                                                                                                                                                                               \n",
    "    AGHMatrix<T> operator+(const AGHMatrix<T>& rhs);\n",
    "    AGHMatrix<T> operator*(const AGHMatrix<T>& rhs);\n",
    "\n",
    "    // Access the individual elements                                                                                                                                                                                               \n",
    "    T& operator()(const unsigned& row, const unsigned& col);\n",
    "    const T& operator()(const unsigned& row, const unsigned& col) const;\n",
    "    \n",
    "    // Printing matrix\n",
    "    std::ostream& operator<<(const AGHMatrix<T>& matrix);\n",
    "\n",
    "    // Access the row and column sizes                                                                                                                                                                                              \n",
    "    unsigned get_rows() const;\n",
    "    unsigned get_cols() const;\n",
    "    \n",
    "    // Zad2\n",
    "    bool is_symmetric();\n",
    "    AGHMatrix<T> get_minor(int col, int row);\n",
    "    T get_determinant();\n",
    "    void transpose();\n",
    "};"
   ]
  },
  {
   "cell_type": "code",
   "execution_count": 2,
   "metadata": {},
   "outputs": [],
   "source": [
    "// Addition of two matrices                                                                                                                                                   \n",
    "template<typename T>\n",
    "AGHMatrix<T> AGHMatrix<T>::operator+(const AGHMatrix<T>& rhs) \n",
    "{\n",
    "  // Task 1 - implement addition of two matrices\n",
    "    if(this->get_rows()!=rhs->get_rows() || this->get_cols()!=rhs->get_cols()){\n",
    "        std::cout<<\"Nie poprawne rozmiary maciezy.\";\n",
    "        return 1;\n",
    "    }\n",
    "    \n",
    "    int rows = this->get_rows();\n",
    "    int colls = this->get_cols();\n",
    "    \n",
    "    for(int i=0; i<rows; i++){\n",
    "        for(int j=0; j<cols; j++){\n",
    "            this->matrix[i][j]+=rhs->matrix[i][j];\n",
    "        }\n",
    "    }\n",
    "}\n",
    "\n",
    "// Multiplication of this matrix and other                                                                                                                           \n",
    "template<typename T>\n",
    "AGHMatrix<T> AGHMatrix<T>::operator*(const AGHMatrix<T>& rhs) \n",
    "{\n",
    "  // Task 1 - implement multiplication of two matrices\n",
    "    if(this->get_cols()!=rhs->get_rows()){\n",
    "        std::cout<<\"Nie poprawne rozmiary maciezy.\";\n",
    "        return 1;\n",
    "    }\n",
    "    \n",
    "    AGHMatrix<T> output (this->get_rows(), rhs.get_cols(), 0);\n",
    "    \n",
    "    int rows = output->get_rows();\n",
    "    int cols = output->get_cols();\n",
    "    \n",
    "    for(int i=0; i<rows; i++){\n",
    "        for(int j=0; j<cols; j++){\n",
    "            for(int k=0; k<this->get_rows(); k++){\n",
    "                output->matrix[i][j]+=this->matrix[i][k]*rhs->matrix[k][j];\n",
    "            }\n",
    "        }\n",
    "    }\n",
    "    \n",
    "    return output;\n",
    "}"
   ]
  },
  {
   "cell_type": "markdown",
   "metadata": {},
   "source": [
    "**Uwaga** W poniższych zadania można korzystać z kodu laboratoryjnego dot. macierzy, albo stworzyć własną klasę/strukturę macierzy, na której będą realizowane dalsze zadania."
   ]
  },
  {
   "cell_type": "markdown",
   "metadata": {},
   "source": [
    "**Zadanie 2**  Zaimplementuj: \n",
    "    1. Funkcję/metodę, która sprawdzi czy macierz jest symetryczna. \n",
    "    2. Funkcję/metodę, która obliczy wyznacznik macierzy.\n",
    "    3. Metodę transpose()."
   ]
  },
  {
   "cell_type": "code",
   "execution_count": 3,
   "metadata": {},
   "outputs": [],
   "source": [
    "/* --IMPELEMENTACJA-W-AGHMATRIX.CPP--\n",
    "template<typename T>\n",
    "bool AGHMatrix<T>::is_symmetric(){\n",
    "    if(this->get_rows()!=this->get_cols()){\n",
    "        return false;\n",
    "    }\n",
    "    \n",
    "    int rows = this->get_rows();\n",
    "    int cols = this->get_cols();\n",
    "    \n",
    "    for(int i = rows; i>=0; i--){\n",
    "        for(int j=0; j<i; j++){\n",
    "            if(!(this->matrix[rows-i][j]!=this->matrix[j][rows-i])){\n",
    "                return false;\n",
    "            }\n",
    "        }\n",
    "    }\n",
    "    \n",
    "    return true;\n",
    "}\n",
    "\n",
    "template<typename T>\n",
    "AGHMatrix<T> AGHMatrix<T>::get_minor(int col, int row){\n",
    "    int rows = this->get_rows()-1;\n",
    "    int cols = this->get_cols()-1;\n",
    "    \n",
    "    AGHMatrix<T> matrix_minor (rows, cols, 0);\n",
    "    \n",
    "    int r=0;\n",
    "    int c=0;\n",
    "    for(int i = 0; i<rows; i++){\n",
    "        if(i!=row){\n",
    "            for(int j = 0; j<cols; j++){\n",
    "                if(j!=col){\n",
    "                    matrix_minor->matrix[r][c]=this->matrix[i][j];\n",
    "                    c++;\n",
    "                }\n",
    "            }\n",
    "            r++;\n",
    "        }\n",
    "    }\n",
    "    \n",
    "    return matrix_minor;\n",
    "}\n",
    "\n",
    "\n",
    "template<typename T>\n",
    "T AGHMatrix<T>::get_determinant(){\n",
    "    if((this->get_rows()!=this->get_cols()||this->get_rows()<1)){\n",
    "        std::cout<<\"Invalid matrix shape.\";\n",
    "        return 1;\n",
    "    }\n",
    "    if(this->get_rows()==1){\n",
    "        return this->matrix[0][0];\n",
    "    }   \n",
    "    \n",
    "    if(this->get_rows()==2){\n",
    "        return this->matrix[0][0]*this->matrix[1][1]-this->matrix[0][1]*this->matrix[1][0];\n",
    "    }\n",
    "    \n",
    "    T result = 0;\n",
    "    int rows = this->get_rows();\n",
    "    int cols = this->get_cols();\n",
    "    \n",
    "    for(int i=0; i<rows; i++){\n",
    "        for(int j=0; j<cols; j++){\n",
    "            AGHMatrix<T> minor = get_minor(i, j);\n",
    "            result += minor.get_determinant()*(pow(-1, i+j));\n",
    "        }\n",
    "    }\n",
    "    \n",
    "    return result;\n",
    "}\n",
    "\n",
    "template<typename T>\n",
    "void AGHMatrix<T>::transpose(){\n",
    "    int rows = this->get_rows();\n",
    "    int cols = this->get_cols();\n",
    "    \n",
    "    AGHMatrix<T> transposed (cols, rows, 0);\n",
    "    \n",
    "    for(int i=0; i<rows; i++){\n",
    "        for(int j=0; j<cols; j++){\n",
    "            transposed->matrix[j][i]=this->matrix[i][j];\n",
    "        }\n",
    "    }\n",
    "    \n",
    "    this = transposed;\n",
    "}\n",
    "*/"
   ]
  },
  {
   "cell_type": "markdown",
   "metadata": {},
   "source": [
    "**Zadanie 3**  Proszę zaimplementować algorytm faktoryzacji LU macierzy (można to zrobić przy użyciu kodu dostarczonego do laboratorium lub stworzyć własną strukturę macierzy i na niej działać). Algorytm przetestować na przykładzie z [wikipedii](https://pl.wikipedia.org/wiki/Metoda_LU) lub korzystając z poniższego kodu.  "
   ]
  },
  {
   "cell_type": "code",
   "execution_count": 1,
   "metadata": {},
   "outputs": [
    {
     "name": "stdout",
     "output_type": "stream",
     "text": [
      "5, 3, 2, \n",
      "0, 1.4, -0.6, \n",
      "0, 0, 2.8, \n",
      "\n",
      "1, 0, 0, \n",
      "0.2, 1, 0, \n",
      "0.6, 0, 1, \n",
      "\n"
     ]
    }
   ],
   "source": [
    "#pragma cling load(\"aghmatrix.h\")\n",
    "// initialize matrix using specified values\n",
    "std::vector<std::vector<double>> init_LU {{ 5.0, 3.0, 2.0 }, \n",
    "                                          { 1.0, 2.0, 0.0 }, \n",
    "                                          { 3.0, 0.0, 4.0 }};\n",
    "\n",
    "// Jeśli się korzysta z implementacji laboratoryjnej\n",
    "AGHMatrix<double> LU(init_LU);\n",
    "int rows = LU.get_rows();\n",
    "AGHMatrix<double> L (rows, rows, 0);\n",
    "AGHMatrix<double> U (rows, rows, 0);\n",
    "for(int i=0; i<rows; i++){\n",
    "    L(i,i)=1;\n",
    "}\n",
    "\n",
    "for(int i=0; i<rows; i++){\n",
    "    for(int j=i; j<rows; j++){\n",
    "        double sum=0;\n",
    "        for(int k=0; k<i; k++){\n",
    "            sum+=L(i,k)*U(k,i);\n",
    "        }\n",
    "        U(i,j)=(LU(i,j)-sum);\n",
    "    }\n",
    "    for(int j=i+1; j<rows; j++){\n",
    "        int sum=0;\n",
    "        for(int k=0; k<i-1; k++){\n",
    "            sum+=L(j,k)*U(k, i);\n",
    "        }\n",
    "        L(j, i)=(LU(j,i)-sum)/U(i,i);\n",
    "    }\n",
    "}\n",
    "\n",
    "std::cout<<U;\n",
    "std::cout<<L;\n"
   ]
  },
  {
   "cell_type": "markdown",
   "metadata": {},
   "source": [
    "**Zadanie 4**  Proszę zaimplementować algorytm faktoryzacji Cholesky'ego macierzy. Jego test można przeprowadzić analogicznie do poprzedniego zadania i oprzeć o przykład z [wikipedii](https://en.wikipedia.org/wiki/Cholesky_decomposition). Po zakończeniu tego zadania proszę porównać oba algorytmy faktoryzacyjne i opisać różnice w ich konstrukcji."
   ]
  },
  {
   "cell_type": "code",
   "execution_count": 1,
   "metadata": {},
   "outputs": [
    {
     "name": "stdout",
     "output_type": "stream",
     "text": [
      "2, 0, 0, \n",
      "6, 1, 0, \n",
      "-3, 0, 9.43398, \n",
      "\n"
     ]
    }
   ],
   "source": [
    "#pragma cling load(\"aghmatrix.h\")\n",
    "// initialize matrix using specified values\n",
    "std::vector<std::vector<double>> init_cholesky {{ 4.0, 12.0, -16.0 }, \n",
    "                                                { 12.0, 37.0, -43.0 }, \n",
    "                                                { -6.0, -43.0, 98.0 }};\n",
    "\n",
    "// Jeśli się korzysta z implementacji laboratoryjnej\n",
    "AGHMatrix<double> A(init_cholesky);\n",
    "\n",
    "int rows = A.get_rows();\n",
    "\n",
    "AGHMatrix<double> L(rows, rows, 0);\n",
    "\n",
    "L(0,0)=sqrt(A(0,0));\n",
    "\n",
    "for(int i=1; i<rows; i++){\n",
    "    L(i,0)=A(i,0)/L(0,0);\n",
    "}\n",
    "\n",
    "for(int i=1; i<rows; i++){\n",
    "    for(int j=1; j<=i; j++){\n",
    "        double sum=0;\n",
    "        if(i==j){\n",
    "            for(int k=0; k<j; k++){\n",
    "                sum+=pow(L(i,k),2);\n",
    "            }\n",
    "            L(i,j)=sqrt(A(i,j)-sum);\n",
    "        } else{\n",
    "            i--;\n",
    "            for(int k=0; k<i; k++){\n",
    "                sum+=L(i,k)*L(j,k);\n",
    "            }\n",
    "            L(i,j)=(A(i,j)-sum)/L(i,i);\n",
    "            i++;\n",
    "        }\n",
    "    }\n",
    "}\n",
    "\n",
    "std::cout<<L;\n"
   ]
  },
  {
   "cell_type": "markdown",
   "metadata": {},
   "source": [
    "**Zadanie 5**  Proszę napisać funkcję (lub klasę wraz z metodami), która realizuje eliminacje Gaussa. Proszę starannie opisać kod, który ją realizuje. Test algorytmu jest najłatwiej zrealizować przy pomocy języka python oraz pakietu numpy (poniższy kod). \n",
    "\n",
    "(*) Dla chętnych - można napisać prosty TestCase, który porówna dwie macierze. Poprawną najlepiej znalaźć przy pomocy pythona. Środowisk testowych w C++ jest kilka - ja polecam GoogleTest.   \n"
   ]
  },
  {
   "cell_type": "code",
   "execution_count": 2,
   "metadata": {},
   "outputs": [],
   "source": [
    "// A = np.matrix([[0.0001, -5.0300, 5.8090, 7.8320],\n",
    "//                [2.2660, 1.9950,  1.2120, 8.0080],\n",
    "//                [8.8500, 5.6810,  4.5520, 1.3020],\n",
    "//                [6.7750, -2.253,  2.9080, 3.9700]])\n",
    "\n",
    "// b = np.matrix([9.5740, 7.2190, 5.7300, 6.2910]).transpose()\n",
    "\n",
    "// x = np.linalg.solve(A, b)\n",
    "\n",
    "// Checking\n",
    "// np.allclose(np.dot(A, x), b)\n",
    "// Rozwiązanie w pliku Gauss.ipynb"
   ]
  },
  {
   "cell_type": "markdown",
   "metadata": {},
   "source": [
    "**Zadanie 6** Implementacja metody Jackobiego - tworzenie i wymagania analogicznie do Zad.4."
   ]
  },
  {
   "cell_type": "code",
   "execution_count": 6,
   "metadata": {},
   "outputs": [
    {
     "name": "stderr",
     "output_type": "stream",
     "text": [
      "\u001b[1minput_line_13:4:34: \u001b[0m\u001b[0;1;31merror: \u001b[0m\u001b[1mredefinition of 'init_jacobi'\u001b[0m\n",
      "std::vector<std::vector<double>> init_jacobi {{ 4.0, 12.0, -16.0 }, \n",
      "\u001b[0;1;32m                                 ^\n",
      "\u001b[0m\u001b[1minput_line_9:4:34: \u001b[0m\u001b[0;1;30mnote: \u001b[0mprevious definition is here\u001b[0m\n",
      "std::vector<std::vector<double>> init_jacobi {{ 4.0, 12.0, -16.0 }, \n",
      "\u001b[0;1;32m                                 ^\n",
      "\u001b[0m"
     ]
    },
    {
     "ename": "Interpreter Error",
     "evalue": "",
     "output_type": "error",
     "traceback": [
      "Interpreter Error: "
     ]
    }
   ],
   "source": [
    "#pragma cling load(\"aghmatrix.h\")\n",
    "// initialize matrix using specified values\n",
    "std::vector<std::vector<double>> init_jacobi {{ 4.0, 12.0, -16.0 }, \n",
    "                                              { 12.0, 37.0, -43.0 }, \n",
    "                                              { -6.0, -43.0, 98.0 }};\n",
    "\n",
    "AGHMatrix<double> A(init_jacobi);\n",
    "\n",
    "std::vector<double> X;\n",
    "\n",
    "for(int i=0; i<A.get_rows(); i++){\n",
    "    X.push_back(0);\n",
    "}\n",
    "\n",
    "for(int j=0; j<100; j++){\n",
    "    for(int i=0; i<A.get_rows(); i++){\n",
    "        double sum = 0;\n",
    "        for(int k=0; k<A.get_cols()-1; k++){\n",
    "            if(k!=i)\n",
    "                sum+=X[k]*A(i, k);\n",
    "        }\n",
    "        X[i]=(A(i, A.get_cols()-1)-sum)/A(i,i);\n",
    "    }\n",
    "}\n",
    "\n",
    "for(int i=0; i<A.get_rows(); i++){\n",
    "    std::cout<<X[i]<<'\\t';\n",
    "}"
   ]
  },
  {
   "cell_type": "code",
   "execution_count": null,
   "metadata": {},
   "outputs": [],
   "source": []
  },
  {
   "cell_type": "code",
   "execution_count": null,
   "metadata": {},
   "outputs": [],
   "source": []
  }
 ],
 "metadata": {
  "kernelspec": {
   "display_name": "C++14",
   "language": "C++14",
   "name": "xcpp14"
  },
  "language_info": {
   "codemirror_mode": "text/x-c++src",
   "file_extension": ".cpp",
   "mimetype": "text/x-c++src",
   "name": "c++",
   "version": "14"
  }
 },
 "nbformat": 4,
 "nbformat_minor": 2
}
